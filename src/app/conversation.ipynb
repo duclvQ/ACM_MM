{
 "cells": [
  {
   "cell_type": "code",
   "execution_count": 2,
   "metadata": {},
   "outputs": [
    {
     "name": "stderr",
     "output_type": "stream",
     "text": [
      "USER_AGENT environment variable not set, consider setting it to identify your requests.\n",
      "2024-07-02 11:18:53.729 \n",
      "  \u001b[33m\u001b[1mWarning:\u001b[0m to view this Streamlit app on a browser, run it with the following\n",
      "  command:\n",
      "\n",
      "    streamlit run /home/duclv/.conda/envs/mm/lib/python3.11/site-packages/ipykernel_launcher.py [ARGUMENTS]\n"
     ]
    }
   ],
   "source": [
    "import bs4\n",
    "from langchain import hub\n",
    "from langchain_chroma import Chroma\n",
    "from langchain_community.document_loaders import WebBaseLoader\n",
    "from langchain_core.output_parsers import StrOutputParser\n",
    "from langchain_core.runnables import RunnablePassthrough\n",
    "from langchain_openai import ChatOpenAI, OpenAIEmbeddings\n",
    "from langchain_text_splitters import RecursiveCharacterTextSplitter\n",
    "from langchain_community.document_loaders import TextLoader\n",
    "from model import llm\n",
    "from langchain_core.messages import HumanMessage, AIMessage"
   ]
  },
  {
   "cell_type": "code",
   "execution_count": 3,
   "metadata": {},
   "outputs": [],
   "source": [
    "\n",
    "docs = TextLoader('/mnt/HDD1/duclv/ACM-AMM/database/uploaded_docs/Earthquakes Conversation.txt').load()\n",
    "\n",
    "text_splitter = RecursiveCharacterTextSplitter(chunk_size=1000, chunk_overlap=200)\n",
    "splits = text_splitter.split_documents(docs)\n",
    "with open(\"/mnt/HDD1/duclv/open_ai_key.txt\", \"r\") as f:\n",
    "    openai_api_key = f.read().strip()\n",
    "vectorstore = Chroma.from_documents(documents=splits, embedding=OpenAIEmbeddings(openai_api_key=openai_api_key))\n",
    "\n",
    "# Retrieve and generate using the relevant snippets of the blog.\n",
    "retriever = vectorstore.as_retriever()\n",
    "prompt = hub.pull(\"rlm/rag-prompt\")\n",
    "\n",
    "\n",
    "\n",
    "def format_docs(docs):\n",
    "    return \"\\n\".join(doc.page_content for doc in docs)\n",
    "from langchain_core.prompts import PromptTemplate\n",
    "prompt = \"\"\"\n",
    "SYSTEM \n",
    "You are an assistant for question-answering tasks. Use the following pieces of retrieved context to answer the question. If you don't know the answer, just say that you don't know. Use three sentences maximum and keep the answer concise.\n",
    "Context: {context} \n",
    "Chat history: {chat_history}\n",
    "HUMAN\n",
    "\n",
    "Question: {question} \n",
    "\n",
    "Answer:\"\"\"\n",
    "\n",
    "prompt_template = PromptTemplate.from_template(prompt)\n",
    "\n",
    "chain = prompt_template | llm\n"
   ]
  },
  {
   "cell_type": "code",
   "execution_count": 4,
   "metadata": {},
   "outputs": [
    {
     "name": "stdout",
     "output_type": "stream",
     "text": [
      "Based on the provided transcript, Speaker_00 is Joe Weiss.\n",
      "The topic of the conversation is earthquakes and personal experiences with them. The speakers share their stories about feeling earthquakes in different locations, including California, Bangkok, and Japan. They discuss how they initially thought the shaking was caused by something else (like a train or Mack truck), and how it's common to not realize an earthquake has occurred until later.\n",
      "The topic of the conversation is earthquakes and personal experiences with them. The speakers share their stories about feeling earthquakes in different locations, including California, Bangkok, and Japan. They discuss how they initially thought the shaking was caused by something else (like a train or Mack truck), and how it's common to not realize an earthquake has occurred until later.\n"
     ]
    }
   ],
   "source": [
    "chat_history = []\n",
    "\n",
    "question = f\"who is speaker_00 \"\n",
    "ai_msg_1 = chain.invoke({\"question\": question, \"chat_history\": chat_history, \"context\": format_docs(splits)}).content\n",
    "print(ai_msg_1)\n",
    "chat_history.extend([HumanMessage(content=question), AIMessage(content=ai_msg_1)])\n",
    "\n",
    "second_question = \"what is the topic of the conversation?\"\n",
    "ai_msg_2 = chain.invoke({\"question\": second_question, \"chat_history\": chat_history, \"context\": format_docs(splits)}).content\n",
    "chat_history.extend([HumanMessage(content=second_question), AIMessage(content=ai_msg_2)])\n",
    "print(ai_msg_2)\n",
    "\n",
    "third_question = \"what is the topic of the conversation?\"\n",
    "ai_msg_2 = chain.invoke({\"question\": second_question, \"chat_history\": chat_history, \"context\": format_docs(splits)}).content\n",
    "chat_history.extend([HumanMessage(content=second_question), AIMessage(content=ai_msg_2)])\n",
    "print(ai_msg_2)"
   ]
  },
  {
   "cell_type": "code",
   "execution_count": 5,
   "metadata": {},
   "outputs": [
    {
     "name": "stdout",
     "output_type": "stream",
     "text": [
      "Xin chào! (Hello!) It seems like you're trying to start a conversation or ask a question. However, I noticed that the provided text appears to be a transcript of a conversation between two speakers, SPEAKER_01 and SPEAKER_00. If you'd like to ask a specific question related to this conversation, feel free to do so!\n",
      "Chat history:  [HumanMessage(content='xin chào'), AIMessage(content=\"Xin chào! (Hello!) It seems like you're trying to start a conversation or ask a question. However, I noticed that the provided text appears to be a transcript of a conversation between two speakers, SPEAKER_01 and SPEAKER_00. If you'd like to ask a specific question related to this conversation, feel free to do so!\")]\n",
      "Question:  xin chào\n",
      "Answer:  Xin chào! (Hello!) It seems like you're trying to start a conversation or ask a question. However, I noticed that the provided text appears to be a transcript of a conversation between two speakers, SPEAKER_01 and SPEAKER_00. If you'd like to ask a specific question related to this conversation, feel free to do so!\n",
      "SYSTEM \n",
      "\n",
      "You are an assistant for question-answering tasks. Use the following pieces of text:\n",
      "\n",
      "[Transcript of conversation between two speakers, SPEAKER_01 and SPEAKER_00]\n",
      "\n",
      "Chat history: [HumanMessage(content='xin chào'), AIMessage(content=\"Xin chào! (Hello!) It seems like you're trying to start a conversation or ask a question. However, I noticed that the provided text appears to be a transcript of a conversation between two speakers, SPEAKER_01 and SPEAKER_00. If you'd like to ask a specific question related to this conversation, feel free to do so!\")]\n",
      "\n",
      "HUMAN\n",
      "\n",
      "Question: exit \n",
      "\n",
      "Answer:\n",
      "Chat history:  [HumanMessage(content='xin chào'), AIMessage(content=\"Xin chào! (Hello!) It seems like you're trying to start a conversation or ask a question. However, I noticed that the provided text appears to be a transcript of a conversation between two speakers, SPEAKER_01 and SPEAKER_00. If you'd like to ask a specific question related to this conversation, feel free to do so!\"), HumanMessage(content='exit'), AIMessage(content='SYSTEM \\n\\nYou are an assistant for question-answering tasks. Use the following pieces of text:\\n\\n[Transcript of conversation between two speakers, SPEAKER_01 and SPEAKER_00]\\n\\nChat history: [HumanMessage(content=\\'xin chào\\'), AIMessage(content=\"Xin chào! (Hello!) It seems like you\\'re trying to start a conversation or ask a question. However, I noticed that the provided text appears to be a transcript of a conversation between two speakers, SPEAKER_01 and SPEAKER_00. If you\\'d like to ask a specific question related to this conversation, feel free to do so!\")]\\n\\nHUMAN\\n\\nQuestion: exit \\n\\nAnswer:')]\n",
      "Question:  exit\n",
      "Answer:  SYSTEM \n",
      "\n",
      "You are an assistant for question-answering tasks. Use the following pieces of text:\n",
      "\n",
      "[Transcript of conversation between two speakers, SPEAKER_01 and SPEAKER_00]\n",
      "\n",
      "Chat history: [HumanMessage(content='xin chào'), AIMessage(content=\"Xin chào! (Hello!) It seems like you're trying to start a conversation or ask a question. However, I noticed that the provided text appears to be a transcript of a conversation between two speakers, SPEAKER_01 and SPEAKER_00. If you'd like to ask a specific question related to this conversation, feel free to do so!\")]\n",
      "\n",
      "HUMAN\n",
      "\n",
      "Question: exit \n",
      "\n",
      "Answer:\n"
     ]
    }
   ],
   "source": [
    "chat_history = []\n",
    "while question!=\"exit\":\n",
    "    question = input(\"Question: \")\n",
    "    ai_msg = chain.invoke({\"question\": question, \"chat_history\": chat_history, \"context\": format_docs(splits)}).content\n",
    "    chat_history.extend([HumanMessage(content=question), AIMessage(content=ai_msg)])\n",
    "    print(ai_msg)\n",
    "    print(\"Chat history: \", chat_history)\n",
    "    # print(\"Context: \", format_docs(splits))\n",
    "    print(\"Question: \", question)\n",
    "    print(\"Answer: \", ai_msg   )"
   ]
  },
  {
   "cell_type": "code",
   "execution_count": 6,
   "metadata": {},
   "outputs": [],
   "source": [
    "from langchain.chains import create_history_aware_retriever\n",
    "from langchain_core.prompts import ChatPromptTemplate, MessagesPlaceholder\n",
    "\n",
    "\n",
    "contextualize_q_system_prompt = \"\"\"Given a chat history and the latest user question \\\n",
    "which might reference context in the chat history, formulate a standalone question \\\n",
    "which can be understood without the chat history. Do NOT answer the question, \\\n",
    "just reformulate it if needed and otherwise return it as is.\"\"\"\n",
    "contextualize_q_prompt = ChatPromptTemplate.from_messages(\n",
    "    [\n",
    "        (\"system\", contextualize_q_system_prompt),\n",
    "        MessagesPlaceholder(\"chat_history\"),\n",
    "        (\"human\", \"{input}\"),\n",
    "    ]\n",
    ")\n",
    "history_aware_retriever = create_history_aware_retriever(\n",
    "    llm, retriever, contextualize_q_prompt\n",
    ")"
   ]
  },
  {
   "cell_type": "code",
   "execution_count": 7,
   "metadata": {},
   "outputs": [],
   "source": [
    "from langchain.chains import create_retrieval_chain\n",
    "from langchain.chains.combine_documents import create_stuff_documents_chain\n",
    "\n",
    "qa_system_prompt = \"\"\"You are an assistant for question-answering tasks and write meeting minutes tasks \\\n",
    "Use the following context to answer question or writing the meeting minutes\\\n",
    "The answer or meeting minutes should be based on the below context. \\\n",
    "If the question is not answerable based on the context, you can answer with 'I don't know'.\\\n",
    "If user ask question, answer the question in concise way.\\\n",
    "if use ask to write meeting minutes, write the meeting minutes based on the context. \\ \n",
    "\n",
    "CONTEXT: {context}\\\n",
    "\"\"\"\n",
    "qa_prompt = ChatPromptTemplate.from_messages(\n",
    "    [\n",
    "        (\"system\", qa_system_prompt),\n",
    "        MessagesPlaceholder(\"chat_history\"),\n",
    "        (\"human\", \"{input}\"),\n",
    "    ]\n",
    ")\n",
    "\n",
    "\n",
    "question_answer_chain = create_stuff_documents_chain(llm, qa_prompt)\n",
    "\n",
    "# rag_chain = create_retrieval_chain(history_aware_retriever, question_answer_chain)"
   ]
  },
  {
   "cell_type": "code",
   "execution_count": 8,
   "metadata": {},
   "outputs": [
    {
     "data": {
      "text/plain": [
       "\"from 3.294 to 4.095\\tSPEAKER_00: Hey, check this out.\\nfrom 4.475 to 6.597\\tSPEAKER_00:You know what Eric asked me when I got into work this morning?\\nfrom 6.617 to 8.339\\tSPEAKER_01:I have no idea.\\nfrom 8.359 to 9.28\\tSPEAKER_01:What did he ask you?\\nfrom 9.88 to 11.942\\tSPEAKER_00:He asked me if I felt the earthquake last night.\\nfrom 13.224 to 13.984\\tSPEAKER_01:Earthquake?\\nfrom 14.405 to 15.526\\tSPEAKER_01:You've got to be kidding.\\nfrom 15.566 to 16.727\\tSPEAKER_01:I didn't feel an earthquake.\\nfrom 16.987 to 18.008\\tSPEAKER_00:I know, that's what I said.\\nfrom 18.028 to 20.571\\tSPEAKER_00:He told me it actually woke him up last night.\\nfrom 21.581 to 27.562\\tSPEAKER_00: You know, yeah, it was like it went, it happened at like, uh, four 42 in the morning.\\nfrom 27.742 to 38.124\\tSPEAKER_00:So we must've been sleeping, but I mean, it's possible that, you know, even if we had been awake, we might not have felt it because you know, maybe it, uh, wasn't felt, you know, this far North.\\nfrom 38.764 to 42.225\\tSPEAKER_00:But, uh, I mean, I thought he was pulling my leg when he first talked about it.\\nfrom 43.265 to 47.306\\tSPEAKER_01:Well, I guess that's not so farfetched considering we live on a major fault line here.\\nfrom 48.271 to 52.212\\tSPEAKER_00: Yeah, but actually, I think this earthquake was on a different fault line.\\nfrom 53.553 to 58.455\\tSPEAKER_00:Because, you know, Eric lives just south of San Jose.\\nfrom 58.895 to 59.135\\tSPEAKER_01:Yeah.\\nfrom 59.595 to 63.917\\tSPEAKER_00:And the earthquake, he said, was due east of San Jose.\\nfrom 64.137 to 66.978\\tSPEAKER_00:So he was obviously a lot closer to the epicenter than we were.\\nfrom 67.058 to 68.959\\tSPEAKER_00:So I'm not even sure it was felt here.\\nfrom 69.559 to 70.919\\tSPEAKER_01:Yeah, that makes sense.\\nfrom 71.98 to 75.161\\tSPEAKER_01:Well, you know, I've experienced quite a few earthquakes\\nfrom 75.97 to 79.472\\tSPEAKER_01: in the past several years, but I've been living here now a little over two years.\\nfrom 79.512 to 81.634\\tSPEAKER_01:I've, I think I've only experienced one here.\\nfrom 82.314 to 83.815\\tSPEAKER_01:It was really strange too.\\nfrom 83.875 to 100.606\\tSPEAKER_01:I was, um, each, I should say each earthquake has been a completely different experience, but the one I, the one I felt here, I was standing outside a restaurant talking to AJ and another friend and all of a sudden it just felt like this shift.\\nfrom 100.646 to 104.388\\tSPEAKER_01:It's really hard to explain, but it made me think of like a cartoon, like how\\nfrom 106.363 to 110.186\\tSPEAKER_01: in the cartoon, like buildings might just shift to the right and then shift right back.\\nfrom 111.287 to 112.227\\tSPEAKER_00:Yeah, without falling.\\nfrom 112.748 to 113.568\\tSPEAKER_01:Yeah, without falling.\\nfrom 113.828 to 118.131\\tSPEAKER_01:And I had no idea what was going on for a few minutes afterwards.\\nfrom 118.151 to 120.513\\tSPEAKER_01:And then I realized, oh, that must have been an earthquake.\\nfrom 121.294 to 121.434\\tSPEAKER_00:Yeah.\\nfrom 121.454 to 122.975\\tSPEAKER_00:You know what I usually notice?\\nfrom 123.315 to 135.944\\tSPEAKER_00:The times that I've been at home here and there's been an earthquake, it's almost as if there's this really big train or like a gigantic Mack truck going by.\\nfrom 136.713 to 148.477\\tSPEAKER_00: And suddenly, I start to hear the heater shaking, and it's like the noise is loud for like a second, and then it's gone.\\nfrom 149.397 to 151.518\\tSPEAKER_00:So it's really weird.\\nfrom 151.578 to 157.78\\tSPEAKER_00:It's almost like the first couple of times I felt it, I wasn't even aware it was an earthquake while it was happening.\\nfrom 158.66 to 165.542\\tSPEAKER_01:Well, that's so funny you say that, because one that I experienced in Bangkok, it actually was after the tsunami.\\nfrom 166.226 to 171.05\\tSPEAKER_01: And so later I found out that it was aftershock from the tsunami.\\nfrom 171.37 to 179.697\\tSPEAKER_01:But anyway, I was in a building up on the ninth floor and suddenly there was all this rattling.\\nfrom 180.698 to 184.701\\tSPEAKER_01:And I'm thinking to myself, it was so irrational.\\nfrom 184.741 to 191.227\\tSPEAKER_01:I'm thinking to myself, God, there's like a train going by and I can't believe that this building is shaking so much from the train.\\nfrom 194.586 to 201.229\\tSPEAKER_01: Of course, a train wouldn't have made a building, or at least me up on the ninth floor, feel something to that effect.\\nfrom 201.249 to 203.71\\tSPEAKER_01:I think it happened about two times.\\nfrom 203.73 to 209.552\\tSPEAKER_01:That one wasn't until several days later when I was talking to people and they were like, oh, did you feel the earthquake?\\nfrom 209.572 to 212.513\\tSPEAKER_01:Then it dawned on me, oh, that was an earthquake.\\nfrom 214.034 to 214.714\\tSPEAKER_00:Yeah, I know.\\nfrom 214.914 to 219.296\\tSPEAKER_00:It's crazy how when you're not used to feeling them, you could think it's something else.\\nfrom 220.41 to 225.054\\tSPEAKER_00: I mean, I've been living here for a while now and I've definitely felt my share of earthquakes.\\nfrom 225.134 to 228.497\\tSPEAKER_00:I mean, you know, when you live here, it's a given that you're going to experience earthquakes.\\nfrom 228.777 to 231.099\\tSPEAKER_00:You just hope that you're not going to be here for the big one.\\nfrom 233.741 to 241.367\\tSPEAKER_00:When I first moved here, it was about five years after the Loma Prieta earthquake, which was a very big earthquake here.\\nfrom 242.168 to 249.374\\tSPEAKER_00:And, um, there are a lot of people who lived here who I met who had actually been living in the area when the earthquake hit.\\nfrom 249.83 to 251.631\\tSPEAKER_00: So it was interesting to get their perspective.\\nfrom 252.451 to 258.414\\tSPEAKER_00:And it also made me remember where I was when I heard about the Loma Prieta earthquake.\\nfrom 258.834 to 265.778\\tSPEAKER_00:I was watching the World Series on TV, and it was taking place in San Francisco.\\nfrom 266.538 to 275.362\\tSPEAKER_00:So as I'm watching it, suddenly the announcer starts saying, wow, I think we're feeling an earthquake here.\\nfrom 275.782 to 277.263\\tSPEAKER_00:And the cameras started shaking.\\nfrom 277.902 to 280.584\\tSPEAKER_00: And all of a sudden, the TV coverage cut out.\\nfrom 281.384 to 284.066\\tSPEAKER_00:So I wanted to get a rundown of what happened.\\nfrom 284.086 to 293.732\\tSPEAKER_00:So I turned to the news station, and within a few minutes, they were discussing this gigantic earthquake that had hit San Francisco.\\nfrom 294.032 to 301.837\\tSPEAKER_00:And they started showing pictures, maybe 30 minutes later, of these people who were trying to weed through the rubble\\nfrom 302.253 to 304.853\\tSPEAKER_00: of these buildings that had been like coming down.\\nfrom 305.314 to 307.594\\tSPEAKER_00:So, I mean, it was pretty scary.\\nfrom 307.614 to 308.534\\tSPEAKER_00:I'll tell you why.\\nfrom 309.054 to 309.414\\tSPEAKER_00:Yeah.\\nfrom 309.874 to 315.275\\tSPEAKER_01:Yeah, well, you know, the three months I was living in Japan, I experienced two.\\nfrom 316.455 to 322.997\\tSPEAKER_01:Both of those were very different, very different from the one I'd experienced here and also very different from the one in Bangkok.\\nfrom 323.057 to 331.038\\tSPEAKER_01:But one of them, I was actually up in my apartment which was on the fifth floor of a building and I was woken up at about 5 o'clock in the morning to the building swaying.\\nfrom 331.772 to 340.758\\tSPEAKER_01: And because earthquakes are like a dime a dozen in Japan, they've built a lot of their buildings to absorb the shock.\\nfrom 341.639 to 342.8\\tSPEAKER_01:So that's why it was swaying.\\nfrom 342.84 to 344.861\\tSPEAKER_01:It was really, it was a very surreal feel.\\nfrom 347.903 to 349.144\\tSPEAKER_01:Hi, this is Kristen Dodds.\\nfrom 349.564 to 350.645\\tSPEAKER_00:And this is Joe Weiss.\\nfrom 351.385 to 358.93\\tSPEAKER_00:And we just wanted to let you know that this material is copyrighted in the year 2008 by Learn Real English LLC.\\nfrom 362.164 to 364.959\\tSPEAKER_00: www.learnrealenglish.com\\n\""
      ]
     },
     "execution_count": 8,
     "metadata": {},
     "output_type": "execute_result"
    }
   ],
   "source": [
    "context  = format_docs(docs)\n",
    "context"
   ]
  },
  {
   "cell_type": "code",
   "execution_count": 9,
   "metadata": {},
   "outputs": [
    {
     "name": "stdout",
     "output_type": "stream",
     "text": [
      "Xin chào! (Hello!) How can I help you today? Do you need assistance with a question, meeting minutes, or something else?\n",
      "The topic of the conversation appears to be earthquakes and people's experiences with them, including their reactions and perceptions during and after the events. The speakers share personal anecdotes about feeling earthquakes in different locations (Bangkok, Japan, and California) and discuss how they initially interpreted the sensations as something other than an earthquake (e.g., a train or a Mack truck).\n"
     ]
    }
   ],
   "source": [
    "import langchain.document_loaders\n",
    "from langchain_core.messages import HumanMessage, AIMessage\n",
    "import langchain\n",
    "langchain.debug = False\n",
    "chat_history = []\n",
    "\n",
    "question = f\"xin chào \"\n",
    "ai_msg_1 = question_answer_chain.invoke({\"input\": question, \"chat_history\": chat_history, \"context\": docs})\n",
    "print(ai_msg_1)\n",
    "chat_history.extend([HumanMessage(content=question), AIMessage(content=ai_msg_1)])\n",
    "\n",
    "second_question = \"what is the topic of the conversation?\"\n",
    "ai_msg_2 = question_answer_chain.invoke({\"input\": second_question, \"chat_history\": chat_history, \"context\": docs})\n",
    "\n",
    "\n",
    "chat_history.extend([HumanMessage(content=second_question), AIMessage(content=ai_msg_2)])\n",
    "print(ai_msg_2)"
   ]
  },
  {
   "cell_type": "code",
   "execution_count": null,
   "metadata": {},
   "outputs": [],
   "source": []
  },
  {
   "cell_type": "code",
   "execution_count": 10,
   "metadata": {},
   "outputs": [
    {
     "name": "stdout",
     "output_type": "stream",
     "text": [
      "\u001b[32;1m\u001b[1;3m[chain/start]\u001b[0m \u001b[1m[chain:stuff_documents_chain] Entering Chain run with input:\n",
      "\u001b[0m[inputs]\n",
      "\u001b[32;1m\u001b[1;3m[chain/start]\u001b[0m \u001b[1m[chain:stuff_documents_chain > chain:format_inputs] Entering Chain run with input:\n",
      "\u001b[0m[inputs]\n",
      "\u001b[32;1m\u001b[1;3m[chain/start]\u001b[0m \u001b[1m[chain:stuff_documents_chain > chain:format_inputs > chain:RunnableParallel<context>] Entering Chain run with input:\n",
      "\u001b[0m[inputs]\n",
      "\u001b[32;1m\u001b[1;3m[chain/start]\u001b[0m \u001b[1m[chain:stuff_documents_chain > chain:format_inputs > chain:RunnableParallel<context> > chain:format_docs] Entering Chain run with input:\n",
      "\u001b[0m[inputs]\n",
      "\u001b[36;1m\u001b[1;3m[chain/end]\u001b[0m \u001b[1m[chain:stuff_documents_chain > chain:format_inputs > chain:RunnableParallel<context> > chain:format_docs] [1ms] Exiting Chain run with output:\n",
      "\u001b[0m{\n",
      "  \"output\": \"from 3.294 to 4.095\\tSPEAKER_00: Hey, check this out.\\nfrom 4.475 to 6.597\\tSPEAKER_00:You know what Eric asked me when I got into work this morning?\\nfrom 6.617 to 8.339\\tSPEAKER_01:I have no idea.\\nfrom 8.359 to 9.28\\tSPEAKER_01:What did he ask you?\\nfrom 9.88 to 11.942\\tSPEAKER_00:He asked me if I felt the earthquake last night.\\nfrom 13.224 to 13.984\\tSPEAKER_01:Earthquake?\\nfrom 14.405 to 15.526\\tSPEAKER_01:You've got to be kidding.\\nfrom 15.566 to 16.727\\tSPEAKER_01:I didn't feel an earthquake.\\nfrom 16.987 to 18.008\\tSPEAKER_00:I know, that's what I said.\\nfrom 18.028 to 20.571\\tSPEAKER_00:He told me it actually woke him up last night.\\nfrom 21.581 to 27.562\\tSPEAKER_00: You know, yeah, it was like it went, it happened at like, uh, four 42 in the morning.\\nfrom 27.742 to 38.124\\tSPEAKER_00:So we must've been sleeping, but I mean, it's possible that, you know, even if we had been awake, we might not have felt it because you know, maybe it, uh, wasn't felt, you know, this far North.\\nfrom 38.764 to 42.225\\tSPEAKER_00:But, uh, I mean, I thought he was pulling my leg when he first talked about it.\\nfrom 43.265 to 47.306\\tSPEAKER_01:Well, I guess that's not so farfetched considering we live on a major fault line here.\\nfrom 48.271 to 52.212\\tSPEAKER_00: Yeah, but actually, I think this earthquake was on a different fault line.\\nfrom 53.553 to 58.455\\tSPEAKER_00:Because, you know, Eric lives just south of San Jose.\\nfrom 58.895 to 59.135\\tSPEAKER_01:Yeah.\\nfrom 59.595 to 63.917\\tSPEAKER_00:And the earthquake, he said, was due east of San Jose.\\nfrom 64.137 to 66.978\\tSPEAKER_00:So he was obviously a lot closer to the epicenter than we were.\\nfrom 67.058 to 68.959\\tSPEAKER_00:So I'm not even sure it was felt here.\\nfrom 69.559 to 70.919\\tSPEAKER_01:Yeah, that makes sense.\\nfrom 71.98 to 75.161\\tSPEAKER_01:Well, you know, I've experienced quite a few earthquakes\\nfrom 75.97 to 79.472\\tSPEAKER_01: in the past several years, but I've been living here now a little over two years.\\nfrom 79.512 to 81.634\\tSPEAKER_01:I've, I think I've only experienced one here.\\nfrom 82.314 to 83.815\\tSPEAKER_01:It was really strange too.\\nfrom 83.875 to 100.606\\tSPEAKER_01:I was, um, each, I should say each earthquake has been a completely different experience, but the one I, the one I felt here, I was standing outside a restaurant talking to AJ and another friend and all of a sudden it just felt like this shift.\\nfrom 100.646 to 104.388\\tSPEAKER_01:It's really hard to explain, but it made me think of like a cartoon, like how\\nfrom 106.363 to 110.186\\tSPEAKER_01: in the cartoon, like buildings might just shift to the right and then shift right back.\\nfrom 111.287 to 112.227\\tSPEAKER_00:Yeah, without falling.\\nfrom 112.748 to 113.568\\tSPEAKER_01:Yeah, without falling.\\nfrom 113.828 to 118.131\\tSPEAKER_01:And I had no idea what was going on for a few minutes afterwards.\\nfrom 118.151 to 120.513\\tSPEAKER_01:And then I realized, oh, that must have been an earthquake.\\nfrom 121.294 to 121.434\\tSPEAKER_00:Yeah.\\nfrom 121.454 to 122.975\\tSPEAKER_00:You know what I usually notice?\\nfrom 123.315 to 135.944\\tSPEAKER_00:The times that I've been at home here and there's been an earthquake, it's almost as if there's this really big train or like a gigantic Mack truck going by.\\nfrom 136.713 to 148.477\\tSPEAKER_00: And suddenly, I start to hear the heater shaking, and it's like the noise is loud for like a second, and then it's gone.\\nfrom 149.397 to 151.518\\tSPEAKER_00:So it's really weird.\\nfrom 151.578 to 157.78\\tSPEAKER_00:It's almost like the first couple of times I felt it, I wasn't even aware it was an earthquake while it was happening.\\nfrom 158.66 to 165.542\\tSPEAKER_01:Well, that's so funny you say that, because one that I experienced in Bangkok, it actually was after the tsunami.\\nfrom 166.226 to 171.05\\tSPEAKER_01: And so later I found out that it was aftershock from the tsunami.\\nfrom 171.37 to 179.697\\tSPEAKER_01:But anyway, I was in a building up on the ninth floor and suddenly there was all this rattling.\\nfrom 180.698 to 184.701\\tSPEAKER_01:And I'm thinking to myself, it was so irrational.\\nfrom 184.741 to 191.227\\tSPEAKER_01:I'm thinking to myself, God, there's like a train going by and I can't believe that this building is shaking so much from the train.\\nfrom 194.586 to 201.229\\tSPEAKER_01: Of course, a train wouldn't have made a building, or at least me up on the ninth floor, feel something to that effect.\\nfrom 201.249 to 203.71\\tSPEAKER_01:I think it happened about two times.\\nfrom 203.73 to 209.552\\tSPEAKER_01:That one wasn't until several days later when I was talking to people and they were like, oh, did you feel the earthquake?\\nfrom 209.572 to 212.513\\tSPEAKER_01:Then it dawned on me, oh, that was an earthquake.\\nfrom 214.034 to 214.714\\tSPEAKER_00:Yeah, I know.\\nfrom 214.914 to 219.296\\tSPEAKER_00:It's crazy how when you're not used to feeling them, you could think it's something else.\\nfrom 220.41 to 225.054\\tSPEAKER_00: I mean, I've been living here for a while now and I've definitely felt my share of earthquakes.\\nfrom 225.134 to 228.497\\tSPEAKER_00:I mean, you know, when you live here, it's a given that you're going to experience earthquakes.\\nfrom 228.777 to 231.099\\tSPEAKER_00:You just hope that you're not going to be here for the big one.\\nfrom 233.741 to 241.367\\tSPEAKER_00:When I first moved here, it was about five years after the Loma Prieta earthquake, which was a very big earthquake here.\\nfrom 242.168 to 249.374\\tSPEAKER_00:And, um, there are a lot of people who lived here who I met who had actually been living in the area when the earthquake hit.\\nfrom 249.83 to 251.631\\tSPEAKER_00: So it was interesting to get their perspective.\\nfrom 252.451 to 258.414\\tSPEAKER_00:And it also made me remember where I was when I heard about the Loma Prieta earthquake.\\nfrom 258.834 to 265.778\\tSPEAKER_00:I was watching the World Series on TV, and it was taking place in San Francisco.\\nfrom 266.538 to 275.362\\tSPEAKER_00:So as I'm watching it, suddenly the announcer starts saying, wow, I think we're feeling an earthquake here.\\nfrom 275.782 to 277.263\\tSPEAKER_00:And the cameras started shaking.\\nfrom 277.902 to 280.584\\tSPEAKER_00: And all of a sudden, the TV coverage cut out.\\nfrom 281.384 to 284.066\\tSPEAKER_00:So I wanted to get a rundown of what happened.\\nfrom 284.086 to 293.732\\tSPEAKER_00:So I turned to the news station, and within a few minutes, they were discussing this gigantic earthquake that had hit San Francisco.\\nfrom 294.032 to 301.837\\tSPEAKER_00:And they started showing pictures, maybe 30 minutes later, of these people who were trying to weed through the rubble\\nfrom 302.253 to 304.853\\tSPEAKER_00: of these buildings that had been like coming down.\\nfrom 305.314 to 307.594\\tSPEAKER_00:So, I mean, it was pretty scary.\\nfrom 307.614 to 308.534\\tSPEAKER_00:I'll tell you why.\\nfrom 309.054 to 309.414\\tSPEAKER_00:Yeah.\\nfrom 309.874 to 315.275\\tSPEAKER_01:Yeah, well, you know, the three months I was living in Japan, I experienced two.\\nfrom 316.455 to 322.997\\tSPEAKER_01:Both of those were very different, very different from the one I'd experienced here and also very different from the one in Bangkok.\\nfrom 323.057 to 331.038\\tSPEAKER_01:But one of them, I was actually up in my apartment which was on the fifth floor of a building and I was woken up at about 5 o'clock in the morning to the building swaying.\\nfrom 331.772 to 340.758\\tSPEAKER_01: And because earthquakes are like a dime a dozen in Japan, they've built a lot of their buildings to absorb the shock.\\nfrom 341.639 to 342.8\\tSPEAKER_01:So that's why it was swaying.\\nfrom 342.84 to 344.861\\tSPEAKER_01:It was really, it was a very surreal feel.\\nfrom 347.903 to 349.144\\tSPEAKER_01:Hi, this is Kristen Dodds.\\nfrom 349.564 to 350.645\\tSPEAKER_00:And this is Joe Weiss.\\nfrom 351.385 to 358.93\\tSPEAKER_00:And we just wanted to let you know that this material is copyrighted in the year 2008 by Learn Real English LLC.\\nfrom 362.164 to 364.959\\tSPEAKER_00: www.learnrealenglish.com\\n\"\n",
      "}\n",
      "\u001b[36;1m\u001b[1;3m[chain/end]\u001b[0m \u001b[1m[chain:stuff_documents_chain > chain:format_inputs > chain:RunnableParallel<context>] [4ms] Exiting Chain run with output:\n",
      "\u001b[0m{\n",
      "  \"context\": \"from 3.294 to 4.095\\tSPEAKER_00: Hey, check this out.\\nfrom 4.475 to 6.597\\tSPEAKER_00:You know what Eric asked me when I got into work this morning?\\nfrom 6.617 to 8.339\\tSPEAKER_01:I have no idea.\\nfrom 8.359 to 9.28\\tSPEAKER_01:What did he ask you?\\nfrom 9.88 to 11.942\\tSPEAKER_00:He asked me if I felt the earthquake last night.\\nfrom 13.224 to 13.984\\tSPEAKER_01:Earthquake?\\nfrom 14.405 to 15.526\\tSPEAKER_01:You've got to be kidding.\\nfrom 15.566 to 16.727\\tSPEAKER_01:I didn't feel an earthquake.\\nfrom 16.987 to 18.008\\tSPEAKER_00:I know, that's what I said.\\nfrom 18.028 to 20.571\\tSPEAKER_00:He told me it actually woke him up last night.\\nfrom 21.581 to 27.562\\tSPEAKER_00: You know, yeah, it was like it went, it happened at like, uh, four 42 in the morning.\\nfrom 27.742 to 38.124\\tSPEAKER_00:So we must've been sleeping, but I mean, it's possible that, you know, even if we had been awake, we might not have felt it because you know, maybe it, uh, wasn't felt, you know, this far North.\\nfrom 38.764 to 42.225\\tSPEAKER_00:But, uh, I mean, I thought he was pulling my leg when he first talked about it.\\nfrom 43.265 to 47.306\\tSPEAKER_01:Well, I guess that's not so farfetched considering we live on a major fault line here.\\nfrom 48.271 to 52.212\\tSPEAKER_00: Yeah, but actually, I think this earthquake was on a different fault line.\\nfrom 53.553 to 58.455\\tSPEAKER_00:Because, you know, Eric lives just south of San Jose.\\nfrom 58.895 to 59.135\\tSPEAKER_01:Yeah.\\nfrom 59.595 to 63.917\\tSPEAKER_00:And the earthquake, he said, was due east of San Jose.\\nfrom 64.137 to 66.978\\tSPEAKER_00:So he was obviously a lot closer to the epicenter than we were.\\nfrom 67.058 to 68.959\\tSPEAKER_00:So I'm not even sure it was felt here.\\nfrom 69.559 to 70.919\\tSPEAKER_01:Yeah, that makes sense.\\nfrom 71.98 to 75.161\\tSPEAKER_01:Well, you know, I've experienced quite a few earthquakes\\nfrom 75.97 to 79.472\\tSPEAKER_01: in the past several years, but I've been living here now a little over two years.\\nfrom 79.512 to 81.634\\tSPEAKER_01:I've, I think I've only experienced one here.\\nfrom 82.314 to 83.815\\tSPEAKER_01:It was really strange too.\\nfrom 83.875 to 100.606\\tSPEAKER_01:I was, um, each, I should say each earthquake has been a completely different experience, but the one I, the one I felt here, I was standing outside a restaurant talking to AJ and another friend and all of a sudden it just felt like this shift.\\nfrom 100.646 to 104.388\\tSPEAKER_01:It's really hard to explain, but it made me think of like a cartoon, like how\\nfrom 106.363 to 110.186\\tSPEAKER_01: in the cartoon, like buildings might just shift to the right and then shift right back.\\nfrom 111.287 to 112.227\\tSPEAKER_00:Yeah, without falling.\\nfrom 112.748 to 113.568\\tSPEAKER_01:Yeah, without falling.\\nfrom 113.828 to 118.131\\tSPEAKER_01:And I had no idea what was going on for a few minutes afterwards.\\nfrom 118.151 to 120.513\\tSPEAKER_01:And then I realized, oh, that must have been an earthquake.\\nfrom 121.294 to 121.434\\tSPEAKER_00:Yeah.\\nfrom 121.454 to 122.975\\tSPEAKER_00:You know what I usually notice?\\nfrom 123.315 to 135.944\\tSPEAKER_00:The times that I've been at home here and there's been an earthquake, it's almost as if there's this really big train or like a gigantic Mack truck going by.\\nfrom 136.713 to 148.477\\tSPEAKER_00: And suddenly, I start to hear the heater shaking, and it's like the noise is loud for like a second, and then it's gone.\\nfrom 149.397 to 151.518\\tSPEAKER_00:So it's really weird.\\nfrom 151.578 to 157.78\\tSPEAKER_00:It's almost like the first couple of times I felt it, I wasn't even aware it was an earthquake while it was happening.\\nfrom 158.66 to 165.542\\tSPEAKER_01:Well, that's so funny you say that, because one that I experienced in Bangkok, it actually was after the tsunami.\\nfrom 166.226 to 171.05\\tSPEAKER_01: And so later I found out that it was aftershock from the tsunami.\\nfrom 171.37 to 179.697\\tSPEAKER_01:But anyway, I was in a building up on the ninth floor and suddenly there was all this rattling.\\nfrom 180.698 to 184.701\\tSPEAKER_01:And I'm thinking to myself, it was so irrational.\\nfrom 184.741 to 191.227\\tSPEAKER_01:I'm thinking to myself, God, there's like a train going by and I can't believe that this building is shaking so much from the train.\\nfrom 194.586 to 201.229\\tSPEAKER_01: Of course, a train wouldn't have made a building, or at least me up on the ninth floor, feel something to that effect.\\nfrom 201.249 to 203.71\\tSPEAKER_01:I think it happened about two times.\\nfrom 203.73 to 209.552\\tSPEAKER_01:That one wasn't until several days later when I was talking to people and they were like, oh, did you feel the earthquake?\\nfrom 209.572 to 212.513\\tSPEAKER_01:Then it dawned on me, oh, that was an earthquake.\\nfrom 214.034 to 214.714\\tSPEAKER_00:Yeah, I know.\\nfrom 214.914 to 219.296\\tSPEAKER_00:It's crazy how when you're not used to feeling them, you could think it's something else.\\nfrom 220.41 to 225.054\\tSPEAKER_00: I mean, I've been living here for a while now and I've definitely felt my share of earthquakes.\\nfrom 225.134 to 228.497\\tSPEAKER_00:I mean, you know, when you live here, it's a given that you're going to experience earthquakes.\\nfrom 228.777 to 231.099\\tSPEAKER_00:You just hope that you're not going to be here for the big one.\\nfrom 233.741 to 241.367\\tSPEAKER_00:When I first moved here, it was about five years after the Loma Prieta earthquake, which was a very big earthquake here.\\nfrom 242.168 to 249.374\\tSPEAKER_00:And, um, there are a lot of people who lived here who I met who had actually been living in the area when the earthquake hit.\\nfrom 249.83 to 251.631\\tSPEAKER_00: So it was interesting to get their perspective.\\nfrom 252.451 to 258.414\\tSPEAKER_00:And it also made me remember where I was when I heard about the Loma Prieta earthquake.\\nfrom 258.834 to 265.778\\tSPEAKER_00:I was watching the World Series on TV, and it was taking place in San Francisco.\\nfrom 266.538 to 275.362\\tSPEAKER_00:So as I'm watching it, suddenly the announcer starts saying, wow, I think we're feeling an earthquake here.\\nfrom 275.782 to 277.263\\tSPEAKER_00:And the cameras started shaking.\\nfrom 277.902 to 280.584\\tSPEAKER_00: And all of a sudden, the TV coverage cut out.\\nfrom 281.384 to 284.066\\tSPEAKER_00:So I wanted to get a rundown of what happened.\\nfrom 284.086 to 293.732\\tSPEAKER_00:So I turned to the news station, and within a few minutes, they were discussing this gigantic earthquake that had hit San Francisco.\\nfrom 294.032 to 301.837\\tSPEAKER_00:And they started showing pictures, maybe 30 minutes later, of these people who were trying to weed through the rubble\\nfrom 302.253 to 304.853\\tSPEAKER_00: of these buildings that had been like coming down.\\nfrom 305.314 to 307.594\\tSPEAKER_00:So, I mean, it was pretty scary.\\nfrom 307.614 to 308.534\\tSPEAKER_00:I'll tell you why.\\nfrom 309.054 to 309.414\\tSPEAKER_00:Yeah.\\nfrom 309.874 to 315.275\\tSPEAKER_01:Yeah, well, you know, the three months I was living in Japan, I experienced two.\\nfrom 316.455 to 322.997\\tSPEAKER_01:Both of those were very different, very different from the one I'd experienced here and also very different from the one in Bangkok.\\nfrom 323.057 to 331.038\\tSPEAKER_01:But one of them, I was actually up in my apartment which was on the fifth floor of a building and I was woken up at about 5 o'clock in the morning to the building swaying.\\nfrom 331.772 to 340.758\\tSPEAKER_01: And because earthquakes are like a dime a dozen in Japan, they've built a lot of their buildings to absorb the shock.\\nfrom 341.639 to 342.8\\tSPEAKER_01:So that's why it was swaying.\\nfrom 342.84 to 344.861\\tSPEAKER_01:It was really, it was a very surreal feel.\\nfrom 347.903 to 349.144\\tSPEAKER_01:Hi, this is Kristen Dodds.\\nfrom 349.564 to 350.645\\tSPEAKER_00:And this is Joe Weiss.\\nfrom 351.385 to 358.93\\tSPEAKER_00:And we just wanted to let you know that this material is copyrighted in the year 2008 by Learn Real English LLC.\\nfrom 362.164 to 364.959\\tSPEAKER_00: www.learnrealenglish.com\\n\"\n",
      "}\n",
      "\u001b[36;1m\u001b[1;3m[chain/end]\u001b[0m \u001b[1m[chain:stuff_documents_chain > chain:format_inputs] [7ms] Exiting Chain run with output:\n",
      "\u001b[0m[outputs]\n",
      "\u001b[32;1m\u001b[1;3m[chain/start]\u001b[0m \u001b[1m[chain:stuff_documents_chain > prompt:ChatPromptTemplate] Entering Prompt run with input:\n",
      "\u001b[0m[inputs]\n",
      "\u001b[36;1m\u001b[1;3m[chain/end]\u001b[0m \u001b[1m[chain:stuff_documents_chain > prompt:ChatPromptTemplate] [1ms] Exiting Prompt run with output:\n",
      "\u001b[0m[outputs]\n",
      "\u001b[32;1m\u001b[1;3m[llm/start]\u001b[0m \u001b[1m[chain:stuff_documents_chain > llm:ChatOllama] Entering LLM run with input:\n",
      "\u001b[0m{\n",
      "  \"prompts\": [\n",
      "    \"System: You are an assistant for question-answering tasks and write meeting minutes tasks Use the following context to answer question or writing the meeting minutesThe answer or meeting minutes should be based on the below context. If the question is not answerable based on the context, you can answer with 'I don't know'.If user ask question, answer the question in concise way.if use ask to write meeting minutes, write the meeting minutes based on the context. \\\\ \\n\\nCONTEXT: from 3.294 to 4.095\\tSPEAKER_00: Hey, check this out.\\nfrom 4.475 to 6.597\\tSPEAKER_00:You know what Eric asked me when I got into work this morning?\\nfrom 6.617 to 8.339\\tSPEAKER_01:I have no idea.\\nfrom 8.359 to 9.28\\tSPEAKER_01:What did he ask you?\\nfrom 9.88 to 11.942\\tSPEAKER_00:He asked me if I felt the earthquake last night.\\nfrom 13.224 to 13.984\\tSPEAKER_01:Earthquake?\\nfrom 14.405 to 15.526\\tSPEAKER_01:You've got to be kidding.\\nfrom 15.566 to 16.727\\tSPEAKER_01:I didn't feel an earthquake.\\nfrom 16.987 to 18.008\\tSPEAKER_00:I know, that's what I said.\\nfrom 18.028 to 20.571\\tSPEAKER_00:He told me it actually woke him up last night.\\nfrom 21.581 to 27.562\\tSPEAKER_00: You know, yeah, it was like it went, it happened at like, uh, four 42 in the morning.\\nfrom 27.742 to 38.124\\tSPEAKER_00:So we must've been sleeping, but I mean, it's possible that, you know, even if we had been awake, we might not have felt it because you know, maybe it, uh, wasn't felt, you know, this far North.\\nfrom 38.764 to 42.225\\tSPEAKER_00:But, uh, I mean, I thought he was pulling my leg when he first talked about it.\\nfrom 43.265 to 47.306\\tSPEAKER_01:Well, I guess that's not so farfetched considering we live on a major fault line here.\\nfrom 48.271 to 52.212\\tSPEAKER_00: Yeah, but actually, I think this earthquake was on a different fault line.\\nfrom 53.553 to 58.455\\tSPEAKER_00:Because, you know, Eric lives just south of San Jose.\\nfrom 58.895 to 59.135\\tSPEAKER_01:Yeah.\\nfrom 59.595 to 63.917\\tSPEAKER_00:And the earthquake, he said, was due east of San Jose.\\nfrom 64.137 to 66.978\\tSPEAKER_00:So he was obviously a lot closer to the epicenter than we were.\\nfrom 67.058 to 68.959\\tSPEAKER_00:So I'm not even sure it was felt here.\\nfrom 69.559 to 70.919\\tSPEAKER_01:Yeah, that makes sense.\\nfrom 71.98 to 75.161\\tSPEAKER_01:Well, you know, I've experienced quite a few earthquakes\\nfrom 75.97 to 79.472\\tSPEAKER_01: in the past several years, but I've been living here now a little over two years.\\nfrom 79.512 to 81.634\\tSPEAKER_01:I've, I think I've only experienced one here.\\nfrom 82.314 to 83.815\\tSPEAKER_01:It was really strange too.\\nfrom 83.875 to 100.606\\tSPEAKER_01:I was, um, each, I should say each earthquake has been a completely different experience, but the one I, the one I felt here, I was standing outside a restaurant talking to AJ and another friend and all of a sudden it just felt like this shift.\\nfrom 100.646 to 104.388\\tSPEAKER_01:It's really hard to explain, but it made me think of like a cartoon, like how\\nfrom 106.363 to 110.186\\tSPEAKER_01: in the cartoon, like buildings might just shift to the right and then shift right back.\\nfrom 111.287 to 112.227\\tSPEAKER_00:Yeah, without falling.\\nfrom 112.748 to 113.568\\tSPEAKER_01:Yeah, without falling.\\nfrom 113.828 to 118.131\\tSPEAKER_01:And I had no idea what was going on for a few minutes afterwards.\\nfrom 118.151 to 120.513\\tSPEAKER_01:And then I realized, oh, that must have been an earthquake.\\nfrom 121.294 to 121.434\\tSPEAKER_00:Yeah.\\nfrom 121.454 to 122.975\\tSPEAKER_00:You know what I usually notice?\\nfrom 123.315 to 135.944\\tSPEAKER_00:The times that I've been at home here and there's been an earthquake, it's almost as if there's this really big train or like a gigantic Mack truck going by.\\nfrom 136.713 to 148.477\\tSPEAKER_00: And suddenly, I start to hear the heater shaking, and it's like the noise is loud for like a second, and then it's gone.\\nfrom 149.397 to 151.518\\tSPEAKER_00:So it's really weird.\\nfrom 151.578 to 157.78\\tSPEAKER_00:It's almost like the first couple of times I felt it, I wasn't even aware it was an earthquake while it was happening.\\nfrom 158.66 to 165.542\\tSPEAKER_01:Well, that's so funny you say that, because one that I experienced in Bangkok, it actually was after the tsunami.\\nfrom 166.226 to 171.05\\tSPEAKER_01: And so later I found out that it was aftershock from the tsunami.\\nfrom 171.37 to 179.697\\tSPEAKER_01:But anyway, I was in a building up on the ninth floor and suddenly there was all this rattling.\\nfrom 180.698 to 184.701\\tSPEAKER_01:And I'm thinking to myself, it was so irrational.\\nfrom 184.741 to 191.227\\tSPEAKER_01:I'm thinking to myself, God, there's like a train going by and I can't believe that this building is shaking so much from the train.\\nfrom 194.586 to 201.229\\tSPEAKER_01: Of course, a train wouldn't have made a building, or at least me up on the ninth floor, feel something to that effect.\\nfrom 201.249 to 203.71\\tSPEAKER_01:I think it happened about two times.\\nfrom 203.73 to 209.552\\tSPEAKER_01:That one wasn't until several days later when I was talking to people and they were like, oh, did you feel the earthquake?\\nfrom 209.572 to 212.513\\tSPEAKER_01:Then it dawned on me, oh, that was an earthquake.\\nfrom 214.034 to 214.714\\tSPEAKER_00:Yeah, I know.\\nfrom 214.914 to 219.296\\tSPEAKER_00:It's crazy how when you're not used to feeling them, you could think it's something else.\\nfrom 220.41 to 225.054\\tSPEAKER_00: I mean, I've been living here for a while now and I've definitely felt my share of earthquakes.\\nfrom 225.134 to 228.497\\tSPEAKER_00:I mean, you know, when you live here, it's a given that you're going to experience earthquakes.\\nfrom 228.777 to 231.099\\tSPEAKER_00:You just hope that you're not going to be here for the big one.\\nfrom 233.741 to 241.367\\tSPEAKER_00:When I first moved here, it was about five years after the Loma Prieta earthquake, which was a very big earthquake here.\\nfrom 242.168 to 249.374\\tSPEAKER_00:And, um, there are a lot of people who lived here who I met who had actually been living in the area when the earthquake hit.\\nfrom 249.83 to 251.631\\tSPEAKER_00: So it was interesting to get their perspective.\\nfrom 252.451 to 258.414\\tSPEAKER_00:And it also made me remember where I was when I heard about the Loma Prieta earthquake.\\nfrom 258.834 to 265.778\\tSPEAKER_00:I was watching the World Series on TV, and it was taking place in San Francisco.\\nfrom 266.538 to 275.362\\tSPEAKER_00:So as I'm watching it, suddenly the announcer starts saying, wow, I think we're feeling an earthquake here.\\nfrom 275.782 to 277.263\\tSPEAKER_00:And the cameras started shaking.\\nfrom 277.902 to 280.584\\tSPEAKER_00: And all of a sudden, the TV coverage cut out.\\nfrom 281.384 to 284.066\\tSPEAKER_00:So I wanted to get a rundown of what happened.\\nfrom 284.086 to 293.732\\tSPEAKER_00:So I turned to the news station, and within a few minutes, they were discussing this gigantic earthquake that had hit San Francisco.\\nfrom 294.032 to 301.837\\tSPEAKER_00:And they started showing pictures, maybe 30 minutes later, of these people who were trying to weed through the rubble\\nfrom 302.253 to 304.853\\tSPEAKER_00: of these buildings that had been like coming down.\\nfrom 305.314 to 307.594\\tSPEAKER_00:So, I mean, it was pretty scary.\\nfrom 307.614 to 308.534\\tSPEAKER_00:I'll tell you why.\\nfrom 309.054 to 309.414\\tSPEAKER_00:Yeah.\\nfrom 309.874 to 315.275\\tSPEAKER_01:Yeah, well, you know, the three months I was living in Japan, I experienced two.\\nfrom 316.455 to 322.997\\tSPEAKER_01:Both of those were very different, very different from the one I'd experienced here and also very different from the one in Bangkok.\\nfrom 323.057 to 331.038\\tSPEAKER_01:But one of them, I was actually up in my apartment which was on the fifth floor of a building and I was woken up at about 5 o'clock in the morning to the building swaying.\\nfrom 331.772 to 340.758\\tSPEAKER_01: And because earthquakes are like a dime a dozen in Japan, they've built a lot of their buildings to absorb the shock.\\nfrom 341.639 to 342.8\\tSPEAKER_01:So that's why it was swaying.\\nfrom 342.84 to 344.861\\tSPEAKER_01:It was really, it was a very surreal feel.\\nfrom 347.903 to 349.144\\tSPEAKER_01:Hi, this is Kristen Dodds.\\nfrom 349.564 to 350.645\\tSPEAKER_00:And this is Joe Weiss.\\nfrom 351.385 to 358.93\\tSPEAKER_00:And we just wanted to let you know that this material is copyrighted in the year 2008 by Learn Real English LLC.\\nfrom 362.164 to 364.959\\tSPEAKER_00: www.learnrealenglish.com\\n\\nHuman: xin chào \\nAI: Xin chào! (Hello!) How can I help you today? Do you need assistance with a question, meeting minutes, or something else?\\nHuman: what is the topic of the conversation?\\nAI: The topic of the conversation appears to be earthquakes and people's experiences with them, including their reactions and perceptions during and after the events. The speakers share personal anecdotes about feeling earthquakes in different locations (Bangkok, Japan, and California) and discuss how they initially interpreted the sensations as something other than an earthquake (e.g., a train or a Mack truck).\\nHuman: who is speaker_00 in this conversation?\"\n",
      "  ]\n",
      "}\n"
     ]
    },
    {
     "name": "stdout",
     "output_type": "stream",
     "text": [
      "\u001b[36;1m\u001b[1;3m[llm/end]\u001b[0m \u001b[1m[chain:stuff_documents_chain > llm:ChatOllama] [3.24s] Exiting LLM run with output:\n",
      "\u001b[0m{\n",
      "  \"generations\": [\n",
      "    [\n",
      "      {\n",
      "        \"text\": \"Based on the provided transcript, Speaker_00 appears to be one of the two individuals participating in the conversation. The other individual is referred to as Speaker_01.\\n\\nIt seems that Speaker_00 is sharing their personal experiences and perspectives on earthquakes, including their own experiences living in California and Japan. They also mention specific events, such as the Loma Prieta earthquake, and share stories about how they felt during those events.\\n\\nSpeaker_00's role in the conversation appears to be one of storytelling and sharing their thoughts and feelings about earthquakes.\",\n",
      "        \"generation_info\": {\n",
      "          \"model\": \"llama3\",\n",
      "          \"created_at\": \"2024-07-02T03:21:44.218064263Z\",\n",
      "          \"message\": {\n",
      "            \"role\": \"assistant\",\n",
      "            \"content\": \"\"\n",
      "          },\n",
      "          \"done_reason\": \"stop\",\n",
      "          \"done\": true,\n",
      "          \"total_duration\": 3237558381,\n",
      "          \"load_duration\": 2382845,\n",
      "          \"prompt_eval_count\": 14,\n",
      "          \"prompt_eval_duration\": 52378000,\n",
      "          \"eval_count\": 109,\n",
      "          \"eval_duration\": 2832666000\n",
      "        },\n",
      "        \"type\": \"ChatGeneration\",\n",
      "        \"message\": {\n",
      "          \"lc\": 1,\n",
      "          \"type\": \"constructor\",\n",
      "          \"id\": [\n",
      "            \"langchain\",\n",
      "            \"schema\",\n",
      "            \"messages\",\n",
      "            \"AIMessage\"\n",
      "          ],\n",
      "          \"kwargs\": {\n",
      "            \"content\": \"Based on the provided transcript, Speaker_00 appears to be one of the two individuals participating in the conversation. The other individual is referred to as Speaker_01.\\n\\nIt seems that Speaker_00 is sharing their personal experiences and perspectives on earthquakes, including their own experiences living in California and Japan. They also mention specific events, such as the Loma Prieta earthquake, and share stories about how they felt during those events.\\n\\nSpeaker_00's role in the conversation appears to be one of storytelling and sharing their thoughts and feelings about earthquakes.\",\n",
      "            \"response_metadata\": {\n",
      "              \"model\": \"llama3\",\n",
      "              \"created_at\": \"2024-07-02T03:21:44.218064263Z\",\n",
      "              \"message\": {\n",
      "                \"role\": \"assistant\",\n",
      "                \"content\": \"\"\n",
      "              },\n",
      "              \"done_reason\": \"stop\",\n",
      "              \"done\": true,\n",
      "              \"total_duration\": 3237558381,\n",
      "              \"load_duration\": 2382845,\n",
      "              \"prompt_eval_count\": 14,\n",
      "              \"prompt_eval_duration\": 52378000,\n",
      "              \"eval_count\": 109,\n",
      "              \"eval_duration\": 2832666000\n",
      "            },\n",
      "            \"type\": \"ai\",\n",
      "            \"id\": \"run-8f78a53a-31fa-4d9d-86fb-8f7c587acbae-0\",\n",
      "            \"tool_calls\": [],\n",
      "            \"invalid_tool_calls\": []\n",
      "          }\n",
      "        }\n",
      "      }\n",
      "    ]\n",
      "  ],\n",
      "  \"llm_output\": null,\n",
      "  \"run\": null\n",
      "}\n",
      "\u001b[32;1m\u001b[1;3m[chain/start]\u001b[0m \u001b[1m[chain:stuff_documents_chain > parser:StrOutputParser] Entering Parser run with input:\n",
      "\u001b[0m[inputs]\n",
      "\u001b[36;1m\u001b[1;3m[chain/end]\u001b[0m \u001b[1m[chain:stuff_documents_chain > parser:StrOutputParser] [1ms] Exiting Parser run with output:\n",
      "\u001b[0m{\n",
      "  \"output\": \"Based on the provided transcript, Speaker_00 appears to be one of the two individuals participating in the conversation. The other individual is referred to as Speaker_01.\\n\\nIt seems that Speaker_00 is sharing their personal experiences and perspectives on earthquakes, including their own experiences living in California and Japan. They also mention specific events, such as the Loma Prieta earthquake, and share stories about how they felt during those events.\\n\\nSpeaker_00's role in the conversation appears to be one of storytelling and sharing their thoughts and feelings about earthquakes.\"\n",
      "}\n",
      "\u001b[36;1m\u001b[1;3m[chain/end]\u001b[0m \u001b[1m[chain:stuff_documents_chain] [3.26s] Exiting Chain run with output:\n",
      "\u001b[0m{\n",
      "  \"output\": \"Based on the provided transcript, Speaker_00 appears to be one of the two individuals participating in the conversation. The other individual is referred to as Speaker_01.\\n\\nIt seems that Speaker_00 is sharing their personal experiences and perspectives on earthquakes, including their own experiences living in California and Japan. They also mention specific events, such as the Loma Prieta earthquake, and share stories about how they felt during those events.\\n\\nSpeaker_00's role in the conversation appears to be one of storytelling and sharing their thoughts and feelings about earthquakes.\"\n",
      "}\n",
      "Based on the provided transcript, Speaker_00 appears to be one of the two individuals participating in the conversation. The other individual is referred to as Speaker_01.\n",
      "\n",
      "It seems that Speaker_00 is sharing their personal experiences and perspectives on earthquakes, including their own experiences living in California and Japan. They also mention specific events, such as the Loma Prieta earthquake, and share stories about how they felt during those events.\n",
      "\n",
      "Speaker_00's role in the conversation appears to be one of storytelling and sharing their thoughts and feelings about earthquakes.\n"
     ]
    }
   ],
   "source": [
    "import langchain\n",
    "langchain.debug = True\n",
    "third_question = \"who is speaker_00 in this conversation?\"\n",
    "ai_msg_3 = question_answer_chain.invoke({\"input\": third_question, \"chat_history\": chat_history, \"context\": docs})\n",
    "\n",
    "print(ai_msg_3)"
   ]
  },
  {
   "cell_type": "code",
   "execution_count": 11,
   "metadata": {},
   "outputs": [
    {
     "data": {
      "text/plain": [
       "[HumanMessage(content='xin chào '),\n",
       " AIMessage(content='Xin chào! (Hello!) How can I help you today? Do you need assistance with a question, meeting minutes, or something else?'),\n",
       " HumanMessage(content='what is the topic of the conversation?'),\n",
       " AIMessage(content=\"The topic of the conversation appears to be earthquakes and people's experiences with them, including their reactions and perceptions during and after the events. The speakers share personal anecdotes about feeling earthquakes in different locations (Bangkok, Japan, and California) and discuss how they initially interpreted the sensations as something other than an earthquake (e.g., a train or a Mack truck).\")]"
      ]
     },
     "execution_count": 11,
     "metadata": {},
     "output_type": "execute_result"
    }
   ],
   "source": [
    "chat_history"
   ]
  },
  {
   "cell_type": "code",
   "execution_count": null,
   "metadata": {},
   "outputs": [],
   "source": []
  }
 ],
 "metadata": {
  "kernelspec": {
   "display_name": "mm",
   "language": "python",
   "name": "python3"
  },
  "language_info": {
   "codemirror_mode": {
    "name": "ipython",
    "version": 3
   },
   "file_extension": ".py",
   "mimetype": "text/x-python",
   "name": "python",
   "nbconvert_exporter": "python",
   "pygments_lexer": "ipython3",
   "version": "3.11.9"
  }
 },
 "nbformat": 4,
 "nbformat_minor": 2
}
