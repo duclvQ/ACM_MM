{
 "cells": [
  {
   "cell_type": "code",
   "execution_count": 1,
   "metadata": {},
   "outputs": [],
   "source": [
    "from langchain_community.llms import Ollama"
   ]
  },
  {
   "cell_type": "code",
   "execution_count": 2,
   "metadata": {},
   "outputs": [],
   "source": [
    "llm = Ollama(model=\"llava\")"
   ]
  },
  {
   "cell_type": "code",
   "execution_count": 142,
   "metadata": {},
   "outputs": [],
   "source": [
    "meeting_details =\"\"\"\n",
    "1: Item 11. Recommendation to authorize city manager to execute all documents necessary with Friends of Colorado Lagoon for the continued tendency and operations of Colorado Lagoon, Wetland and Marine Science Education Center and authorize city manager to execute all documents necessary.\n",
    "1: For Third Amendment right of entry permit number 3 to 9 three with friends of Colorado Lagoon from Parks and Rec District three.\n",
    "0: Yes, that's one question.\n",
    "5: Putting the effort that they put into this lease agreement. I want to acknowledge very publicly and very enthusiastically the great work that the Friends of Colorado Lagoon does for our city, the efforts that they have been involved in for a number of years, many, many years prior to me getting on council and with my predecessor and with\n",
    "5: his predecessor has just been tremendous. Through their great efforts and partnership with the city of the Colorado Lagoon, water quality has been restored to a place where we can be very proud of getting a ratings year after year.\n",
    "5: And that has a lot to do with the advocacy and the passion of SoCal. So I'm happy to support this lease agreement. I did want to call out one thing, and that's an amendment to the lease that's in here.\n",
    "5: And I want to thank staff for putting it in here, but it basically highlights the focus of the city, which is to work collaboratively with our nonprofits, not work competitively with them, to encourage them to apply for grants to support them in their grant funding effort, and to also allow the city to analyze whether those grant funding\n",
    "5: opportunities are going to encumber the city and if they are whether it's it's feasible for the city to support such endeavors. And so.\n",
    "3: I'm grateful for.\n",
    "5: The language on page three that has been and added to reflect some of my concerns in that regards. And I want to thank staff for working collaboratively with my office and with SoCal to make that happen. So thank you.\n",
    "5: Meredith Reynolds has been our lead on this. I appreciate your service. Thank you.\n",
    "0: Thank you, Councilman Price. Now we're going to go into any comments on this, the item, any public comments.\n",
    "1: There's no public comment on this item.\n",
    "0: We're fine. Thank you very much. We don't have to vote on it either.\n",
    "1: We do.\n",
    "0: Okay, fine. See? No further comment or digest. Would you please cast your vote?\n",
    "1: Council memo appears. But she carries.\n",
    "0: Thank you. Now we have a special presentation and. I saw a presentation tonight. And that presentation and the Peacemaker celebration tonight, the peacemakers presentation were honored. Some great individuals, as some of you may already know, each year after our annual Martin Luther King parade and celebration, I would like for us to honor a few individuals in the\n",
    "\"\"\"\n",
    "\n",
    "template = \"\"\"\n",
    "## Meeting Minutes\n",
    "\n",
    "**Date:** [Date]\n",
    "**Time:** [Start Time] - [End Time]\n",
    "**Location:** [Location]\n",
    "**Attendees:**\n",
    "- [Person 1]\n",
    "- [Person 2]\n",
    "- [Person 3]\n",
    "\n",
    "### Agenda\n",
    "1. [Agenda Item 1]\n",
    "2. [Agenda Item 2]\n",
    "3. [Agenda Item 3]\n",
    "\n",
    "### Discussion Summary\n",
    "- **[Agenda Item 1]**: [Discussion Points]\n",
    "- **[Agenda Item 2]**: [Discussion Points]\n",
    "- **[Agenda Item 3]**: [Discussion Points]\n",
    "\n",
    "### Action Items\n",
    "- [Action Item 1]: [Person Responsible] - [Deadline]\n",
    "- [Action Item 2]: [Person Responsible] - [Deadline]\n",
    "- [Action Item 3]: [Person Responsible] - [Deadline]\n",
    "\n",
    "### Decisions Made\n",
    "- [Decision 1]\n",
    "- [Decision 2]\n",
    "- [Decision 3]\n",
    "\n",
    "**Next Meeting:**\n",
    "- **Date:** [Next Meeting Date]\n",
    "- **Time:** [Next Meeting Time]\n",
    "- **Location:** [Next Meeting Location]\n",
    "\n",
    "**Minutes Prepared by:**\n",
    "[Your Name]\n",
    "\"\"\"\n",
    "\n",
    "\n",
    "prompt = f\"\"\"\n",
    "I’m Meeting summary officer pls help me to Summarize using meeting minute template \n",
    "We have finished the meeting:\n",
    "\n",
    "{meeting_details}\n",
    "\n",
    "use this template:\n",
    "\n",
    "{template}\n",
    "\n",
    "Do not enter information that is not displayed.\n",
    "Do not include information that does not appear in the meeting like date, Location, Time but if it have fill .\n",
    "Summarize using meeting minute template Only\n",
    "\"\"\""
   ]
  },
  {
   "cell_type": "code",
   "execution_count": 143,
   "metadata": {},
   "outputs": [],
   "source": [
    "def generate_summary(prompt):\n",
    "    prompt = f\"\"\"{prompt}\"\"\"\n",
    "    result = llm.generate([prompt])\n",
    "    summary = result.generations[0][0].text\n",
    "    return summary"
   ]
  },
  {
   "cell_type": "code",
   "execution_count": 144,
   "metadata": {},
   "outputs": [],
   "source": [
    "def generate_questions(meeting_details):\n",
    "    prompt = f\"\"\"\n",
    "    Based on the following meeting details, generate questions to evaluate the accuracy of the summary. The questions should be based on a meeting minutes template and should be in one of the following formats: yes/no questions, short answers, names only, or numbers only.\n",
    "    i need 10 questions\n",
    "    Do not generate awsnwer generate question only\n",
    "    \n",
    "    Meeting Details:\n",
    "    {meeting_details}\n",
    "\n",
    "    Questions is:\n",
    "    \"\"\"\n",
    "    result = llm.generate([prompt])\n",
    "    questions = result.generations[0][0].text.split(\"\\n\")\n",
    "    return questions\n"
   ]
  },
  {
   "cell_type": "code",
   "execution_count": 145,
   "metadata": {},
   "outputs": [
    {
     "data": {
      "text/plain": [
       "[' 1. Was an authorization requested for the city manager to execute all necessary documents with Friends of Colorado Lagoon?',\n",
       " '2. Was a right of entry permit number 3 to 9 issued to Friends of Colorado Lagoon from Parks and Rec District three?',\n",
       " '3. Was public acknowledgement given for the great work that Friends of Colorado Lagoon does for the city?',\n",
       " '4. Was there mention of the lease agreement with Friends of Colorado Lagoon and the amendment to the lease?',\n",
       " '5. Were any specific concerns regarding collaboration with nonprofits mentioned in the meeting?',\n",
       " '6. Was there a presentation honoring individuals at the Peacemaker celebration?',\n",
       " '7. Was there any public comment on the item being discussed?',\n",
       " '8. Was a vote taken on the item being discussed?',\n",
       " '9. What was the outcome of the vote, if taken?',\n",
       " '10. Were there any special presentations during the meeting? ']"
      ]
     },
     "execution_count": 145,
     "metadata": {},
     "output_type": "execute_result"
    }
   ],
   "source": [
    "generate_questions(meeting_details)"
   ]
  },
  {
   "cell_type": "code",
   "execution_count": 146,
   "metadata": {},
   "outputs": [],
   "source": [
    "def extract_answers(summary, questions):\n",
    "    answers = []\n",
    "    for question in questions:\n",
    "        prompt = f\"\"\"\n",
    "        Based on the following summary of the meeting minutes, answer the question briefly. Use only yes/no, short answers, names, or numbers. \n",
    "        Do not provide explanations.\n",
    "        Do not explain the answer\n",
    "\n",
    "        Summary:\n",
    "        {summary}\n",
    "\n",
    "        Question:\n",
    "        {question}\n",
    "\n",
    "        Answer:\n",
    "        \"\"\"\n",
    "        result = llm.generate([prompt])\n",
    "        answer = result.generations[0][0].text.strip()\n",
    "        answers.append(answer)\n",
    "    return answers\n"
   ]
  },
  {
   "cell_type": "code",
   "execution_count": 147,
   "metadata": {},
   "outputs": [],
   "source": [
    "def compare_answers(source_answers, summary_answers):\n",
    "    consistency_score = 0\n",
    "    for source, summary in zip(source_answers, summary_answers):\n",
    "        if source.lower() == summary.lower():\n",
    "            consistency_score += 1\n",
    "    return round(consistency_score / len(source_answers), 2)"
   ]
  },
  {
   "cell_type": "code",
   "execution_count": 148,
   "metadata": {},
   "outputs": [],
   "source": [
    "def evaluate_summary_factual_consistency(meeting_details, prompt, max_iterations, template):\n",
    "    questions = generate_questions(meeting_details)\n",
    "    \n",
    "    best_consistency_score = 0\n",
    "    best_summary = None\n",
    "    best_source_answers = None\n",
    "    best_summary_answers = None\n",
    "    \n",
    "    iterations = 0\n",
    "    \n",
    "    while best_consistency_score < 0.6 and iterations < max_iterations:\n",
    "        summary = generate_summary(prompt)\n",
    "        source_answers = extract_answers(meeting_details, questions)\n",
    "        summary_answers = extract_answers(summary, questions)\n",
    "        consistency_score = compare_answers(source_answers, summary_answers)\n",
    "        \n",
    "        print(f\"Iteration {iterations + 1}, Consistency Score: {consistency_score}\")\n",
    "\n",
    "        if consistency_score > best_consistency_score:\n",
    "            best_consistency_score = consistency_score\n",
    "            best_summary = summary\n",
    "            best_source_answers = source_answers\n",
    "            best_summary_answers = summary_answers\n",
    "\n",
    "        if best_consistency_score < 0.6:\n",
    "            prompt = f\"\"\"\n",
    "            I’m Meeting summary officer pls help me to Summarize using meeting minute template \n",
    "            We have finished the meeting:\n",
    "            \n",
    "            {meeting_details}\n",
    "            \n",
    "            use this template:\n",
    "            \n",
    "            {template}\n",
    "            \n",
    "            Do not enter information that is not displayed.\n",
    "            \n",
    "            Make sure the summary can accurately answer these questions:\n",
    "            \n",
    "            {questions}\n",
    "            \"\"\"\n",
    "\n",
    "        iterations += 1\n",
    "\n",
    "    return {\n",
    "        \"summary\": best_summary,\n",
    "        \"questions\": questions,\n",
    "        \"source_answers\": best_source_answers,\n",
    "        \"summary_answers\": best_summary_answers,\n",
    "        \"consistency_score\": best_consistency_score,\n",
    "        \"iterations\": iterations\n",
    "    }\n"
   ]
  },
  {
   "cell_type": "code",
   "execution_count": 149,
   "metadata": {},
   "outputs": [
    {
     "name": "stdout",
     "output_type": "stream",
     "text": [
      "Iteration 1, Consistency Score: 0.7\n"
     ]
    }
   ],
   "source": [
    "evaluation_result = evaluate_summary_factual_consistency(meeting_details, prompt, 5, template)"
   ]
  },
  {
   "cell_type": "code",
   "execution_count": 150,
   "metadata": {},
   "outputs": [
    {
     "name": "stdout",
     "output_type": "stream",
     "text": [
      "Generated Summary:\n",
      " **Date:** [Insert Date]\n",
      "**Time:** [Start Time] - [End Time]\n",
      "**Location:** [Insert Location]\n",
      "**Attendees:**\n",
      "- Meredith Reynolds\n",
      "- Councilman Price\n",
      "\n",
      "### Agenda\n",
      "1. Recommendation to authorize city manager to execute all documents necessary with Friends of Colorado Lagoon for the continued tendency and operations of Colorado Lagoon, Wetland and Marine Science Education Center and authorize city manager to execute all documents necessary.\n",
      "2. For Third Amendment right of entry permit number 3 to 9 three with friends of Colorado Lagoon from Parks and Rec District three.\n",
      "\n",
      "### Discussion Summary\n",
      "- Councilman Price expressed his appreciation for the efforts of Friends of Colorado Lagoon in restoring water quality and acknowledged their advocacy and passion.\n",
      "- He also requested an amendment to the lease agreement that highlights the focus of the city, which is to work collaboratively with nonprofits, not competitively with them, and to encourage them to apply for grants to support their grant funding effort.\n",
      "- The language on page three of the lease agreement has been added to reflect this concern.\n",
      "- Meredith Reynolds was thanked for her service.\n",
      "\n",
      "### Action Items\n",
      "- [No action items were created during this meeting.]\n",
      "\n",
      "### Decisions Made\n",
      "- Councilman Price supported the recommendation to authorize the city manager to execute all necessary documents with Friends of Colorado Lagoon.\n",
      "- The amendment to the lease agreement was approved.\n",
      "\n",
      "**Next Meeting:**\n",
      "- **Date:** [Insert Next Meeting Date]\n",
      "- **Time:** [Insert Next Meeting Time]\n",
      "- **Location:** [Insert Next Meeting Location]\n",
      "\n",
      "**Minutes Prepared by:**\n",
      "[Your Name] \n",
      "\n",
      "Generated Questions:\n",
      "[' 1. Did the city manager receive authorization to execute all necessary documents with Friends of Colorado Lagoon for the continued operation of the Colorado Lagoon, Wetland and Marine Science Education Center?', '2. Was the third amendment right of entry permit numbered from 3 to 9 for Parks and Rec District three?', '3. Was there any discussion or resolution regarding the amendment to the lease agreement in the meeting?', '4. What is the focus of the city as per the amendment to the lease agreement?', '5. Who is responsible for analyzing whether grant funding opportunities encumber the city?', '6. Which staff member was acknowledged for their work on this issue?', '7. How many public comments were received on this item in the meeting?', '8. Was a vote taken on this item?', '9. What type of presentation and celebration took place after the annual Martin Luther King parade and celebration?', '10. Is there any further comment or digest required for this item? ']\n",
      "\n",
      "Source Answers:\n",
      "['Yes', 'Yes', 'Yes', 'Yes', 'Meredith Reynolds', 'Meredith Reynolds', '0', 'Yes', 'Yes', 'No']\n",
      "\n",
      "Summary Answers:\n",
      "['Yes', 'Yes', 'Yes', 'Work collaboratively with nonprofits, not competitively with them, and encourage them to apply for grants to support their grant funding effort.', 'No answer provided.', 'Meredith Reynolds', '0', 'Yes', 'No', 'No']\n",
      "\n",
      "Consistency Score:\n",
      "0.7\n"
     ]
    }
   ],
   "source": [
    "print(\"Generated Summary:\")\n",
    "print(evaluation_result[\"summary\"])\n",
    "print(\"\\nGenerated Questions:\")\n",
    "print(evaluation_result[\"questions\"])\n",
    "print(\"\\nSource Answers:\")\n",
    "print(evaluation_result[\"source_answers\"])\n",
    "print(\"\\nSummary Answers:\")\n",
    "print(evaluation_result[\"summary_answers\"])\n",
    "print(\"\\nConsistency Score:\")\n",
    "print(evaluation_result[\"consistency_score\"])"
   ]
  },
  {
   "cell_type": "code",
   "execution_count": null,
   "metadata": {},
   "outputs": [],
   "source": []
  },
  {
   "cell_type": "code",
   "execution_count": null,
   "metadata": {},
   "outputs": [],
   "source": []
  },
  {
   "cell_type": "code",
   "execution_count": null,
   "metadata": {},
   "outputs": [],
   "source": []
  }
 ],
 "metadata": {
  "kernelspec": {
   "display_name": "Python 3 (ipykernel)",
   "language": "python",
   "name": "python3"
  },
  "language_info": {
   "codemirror_mode": {
    "name": "ipython",
    "version": 3
   },
   "file_extension": ".py",
   "mimetype": "text/x-python",
   "name": "python",
   "nbconvert_exporter": "python",
   "pygments_lexer": "ipython3",
   "version": "3.10.4"
  }
 },
 "nbformat": 4,
 "nbformat_minor": 4
}
