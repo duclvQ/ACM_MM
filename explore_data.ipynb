{
 "cells": [
  {
   "cell_type": "code",
   "execution_count": 8,
   "id": "d91ffdcd-5300-418b-9116-47a43879fcd1",
   "metadata": {
    "tags": []
   },
   "outputs": [],
   "source": [
    "import pandas as pd"
   ]
  },
  {
   "cell_type": "code",
   "execution_count": 13,
   "id": "563cdf1b-bae6-482e-82fd-ff5e83b94843",
   "metadata": {
    "tags": []
   },
   "outputs": [],
   "source": [
    "df = pd.read_json(\"MeetingBank.json\")"
   ]
  },
  {
   "cell_type": "code",
   "execution_count": 51,
   "id": "ab36f4e1-5987-44d7-a5ff-688c5c3ba34f",
   "metadata": {},
   "outputs": [],
   "source": [
    "meeting = \"LongBeachCC_01212020\"\n",
    "info = \"20-0058\""
   ]
  },
  {
   "cell_type": "code",
   "execution_count": 52,
   "id": "36070f4c-ba85-4fdb-a4d8-76b7dcaaafcd",
   "metadata": {
    "tags": []
   },
   "outputs": [
    {
     "data": {
      "text/plain": [
       "'Item 11. Recommendation to authorize city manager to execute all documents necessary with Friends of Colorado Lagoon for the continued tendency and operations of Colorado Lagoon, Wetland and Marine Science Education Center and authorize city manager to execute all documents necessary.'"
      ]
     },
     "execution_count": 52,
     "metadata": {},
     "output_type": "execute_result"
    }
   ],
   "source": [
    "df[meeting].itemInfo[info][\"transcripts\"][0][\"text\"]"
   ]
  },
  {
   "cell_type": "code",
   "execution_count": 53,
   "id": "325d4914-7583-4f43-9e9c-da55523e1ca9",
   "metadata": {
    "tags": []
   },
   "outputs": [
    {
     "data": {
      "text/plain": [
       "1"
      ]
     },
     "execution_count": 53,
     "metadata": {},
     "output_type": "execute_result"
    }
   ],
   "source": [
    "df[meeting].itemInfo[info][\"transcripts\"][0][\"speaker\"]"
   ]
  },
  {
   "cell_type": "code",
   "execution_count": 54,
   "id": "1fcf7b10-b6d0-4259-aed2-d0475b030b18",
   "metadata": {
    "tags": []
   },
   "outputs": [],
   "source": [
    "script = df[meeting].itemInfo[info][\"transcripts\"]"
   ]
  },
  {
   "cell_type": "code",
   "execution_count": 55,
   "id": "f80d7437-417f-4ac9-97d2-660a7a1f7883",
   "metadata": {
    "tags": []
   },
   "outputs": [],
   "source": [
    "num = len(df.LongBeachCC_08092022.itemInfo[\"22-0922\"][\"transcripts\"])"
   ]
  },
  {
   "cell_type": "code",
   "execution_count": 56,
   "id": "4e73c7bb-2890-4460-97ae-eb2d6c34d038",
   "metadata": {
    "tags": []
   },
   "outputs": [],
   "source": [
    "item_info = df[meeting].itemInfo[info][\"transcripts\"]\n",
    "texts = [entry[\"text\"] for entry in item_info]\n",
    "speakers = [entry[\"speaker\"] for entry in item_info]"
   ]
  },
  {
   "cell_type": "code",
   "execution_count": 57,
   "id": "15e21677-0884-4fa2-9d25-cc96b86c9d13",
   "metadata": {
    "tags": []
   },
   "outputs": [],
   "source": [
    "new_df = pd.DataFrame({\"text\": texts, \"speaker\": speakers})"
   ]
  },
  {
   "cell_type": "code",
   "execution_count": 58,
   "id": "ab0ae667-eebf-4d9b-8e0a-dabbad02d340",
   "metadata": {
    "tags": []
   },
   "outputs": [
    {
     "data": {
      "text/plain": [
       "'For Third Amendment right of entry permit number 3 to 9 three with friends of Colorado Lagoon from Parks and Rec District three.'"
      ]
     },
     "execution_count": 58,
     "metadata": {},
     "output_type": "execute_result"
    }
   ],
   "source": [
    "new_df.text[1]"
   ]
  },
  {
   "cell_type": "code",
   "execution_count": 59,
   "id": "65a1d9c0-8c80-498b-b8cc-2e957660375c",
   "metadata": {
    "tags": []
   },
   "outputs": [
    {
     "name": "stdout",
     "output_type": "stream",
     "text": [
      "1: Item 11. Recommendation to authorize city manager to execute all documents necessary with Friends of Colorado Lagoon for the continued tendency and operations of Colorado Lagoon, Wetland and Marine Science Education Center and authorize city manager to execute all documents necessary.\n",
      "1: For Third Amendment right of entry permit number 3 to 9 three with friends of Colorado Lagoon from Parks and Rec District three.\n",
      "0: Yes, that's one question.\n",
      "5: Putting the effort that they put into this lease agreement. I want to acknowledge very publicly and very enthusiastically the great work that the Friends of Colorado Lagoon does for our city, the efforts that they have been involved in for a number of years, many, many years prior to me getting on council and with my predecessor and with\n",
      "5: his predecessor has just been tremendous. Through their great efforts and partnership with the city of the Colorado Lagoon, water quality has been restored to a place where we can be very proud of getting a ratings year after year.\n",
      "5: And that has a lot to do with the advocacy and the passion of SoCal. So I'm happy to support this lease agreement. I did want to call out one thing, and that's an amendment to the lease that's in here.\n",
      "5: And I want to thank staff for putting it in here, but it basically highlights the focus of the city, which is to work collaboratively with our nonprofits, not work competitively with them, to encourage them to apply for grants to support them in their grant funding effort, and to also allow the city to analyze whether those grant funding\n",
      "5: opportunities are going to encumber the city and if they are whether it's it's feasible for the city to support such endeavors. And so.\n",
      "3: I'm grateful for.\n",
      "5: The language on page three that has been and added to reflect some of my concerns in that regards. And I want to thank staff for working collaboratively with my office and with SoCal to make that happen. So thank you.\n",
      "5: Meredith Reynolds has been our lead on this. I appreciate your service. Thank you.\n",
      "0: Thank you, Councilman Price. Now we're going to go into any comments on this, the item, any public comments.\n",
      "1: There's no public comment on this item.\n",
      "0: We're fine. Thank you very much. We don't have to vote on it either.\n",
      "1: We do.\n",
      "0: Okay, fine. See? No further comment or digest. Would you please cast your vote?\n",
      "1: Council memo appears. But she carries.\n",
      "0: Thank you. Now we have a special presentation and. I saw a presentation tonight. And that presentation and the Peacemaker celebration tonight, the peacemakers presentation were honored. Some great individuals, as some of you may already know, each year after our annual Martin Luther King parade and celebration, I would like for us to honor a few individuals in the\n"
     ]
    }
   ],
   "source": [
    "combined_info = [f\"{speaker}: {text}\" for speaker, text in zip(speakers, texts)]\n",
    "\n",
    "for info in combined_info:\n",
    "    print(info)"
   ]
  },
  {
   "cell_type": "code",
   "execution_count": 26,
   "id": "50b8a903-cb79-4a8d-a3a8-9351ad262768",
   "metadata": {
    "tags": []
   },
   "outputs": [
    {
     "data": {
      "text/html": [
       "<div>\n",
       "<style scoped>\n",
       "    .dataframe tbody tr th:only-of-type {\n",
       "        vertical-align: middle;\n",
       "    }\n",
       "\n",
       "    .dataframe tbody tr th {\n",
       "        vertical-align: top;\n",
       "    }\n",
       "\n",
       "    .dataframe thead th {\n",
       "        text-align: right;\n",
       "    }\n",
       "</style>\n",
       "<table border=\"1\" class=\"dataframe\">\n",
       "  <thead>\n",
       "    <tr style=\"text-align: right;\">\n",
       "      <th></th>\n",
       "      <th>text</th>\n",
       "      <th>speaker</th>\n",
       "    </tr>\n",
       "  </thead>\n",
       "  <tbody>\n",
       "    <tr>\n",
       "      <th>0</th>\n",
       "      <td>Docket 0959. Message in order authorizing city...</td>\n",
       "      <td>3</td>\n",
       "    </tr>\n",
       "    <tr>\n",
       "      <th>1</th>\n",
       "      <td>The grant will fund food preparation and deliv...</td>\n",
       "      <td>3</td>\n",
       "    </tr>\n",
       "    <tr>\n",
       "      <th>2</th>\n",
       "      <td>Thank you. Madam Clerk, the chair now recogniz...</td>\n",
       "      <td>0</td>\n",
       "    </tr>\n",
       "    <tr>\n",
       "      <th>3</th>\n",
       "      <td>I would like to move for suspension rules and ...</td>\n",
       "      <td>4</td>\n",
       "    </tr>\n",
       "    <tr>\n",
       "      <th>4</th>\n",
       "      <td>The grant will fund food preparation and deliv...</td>\n",
       "      <td>4</td>\n",
       "    </tr>\n",
       "    <tr>\n",
       "      <th>5</th>\n",
       "      <td>I'd like to suspend and pass these funds so th...</td>\n",
       "      <td>4</td>\n",
       "    </tr>\n",
       "    <tr>\n",
       "      <th>6</th>\n",
       "      <td>Thank you, Mr. President. Thank you, Michael. ...</td>\n",
       "      <td>0</td>\n",
       "    </tr>\n",
       "    <tr>\n",
       "      <th>7</th>\n",
       "      <td>The docket has passed. Moving right along, Mad...</td>\n",
       "      <td>0</td>\n",
       "    </tr>\n",
       "  </tbody>\n",
       "</table>\n",
       "</div>"
      ],
      "text/plain": [
       "                                                text  speaker\n",
       "0  Docket 0959. Message in order authorizing city...        3\n",
       "1  The grant will fund food preparation and deliv...        3\n",
       "2  Thank you. Madam Clerk, the chair now recogniz...        0\n",
       "3  I would like to move for suspension rules and ...        4\n",
       "4  The grant will fund food preparation and deliv...        4\n",
       "5  I'd like to suspend and pass these funds so th...        4\n",
       "6  Thank you, Mr. President. Thank you, Michael. ...        0\n",
       "7  The docket has passed. Moving right along, Mad...        0"
      ]
     },
     "execution_count": 26,
     "metadata": {},
     "output_type": "execute_result"
    }
   ],
   "source": [
    "new_df"
   ]
  },
  {
   "cell_type": "code",
   "execution_count": null,
   "id": "16df252e-8fda-4caf-a8a1-b8cb6e4f372e",
   "metadata": {},
   "outputs": [],
   "source": [
    "df_elitr = "
   ]
  }
 ],
 "metadata": {
  "kernelspec": {
   "display_name": "Python 3 (ipykernel)",
   "language": "python",
   "name": "python3"
  },
  "language_info": {
   "codemirror_mode": {
    "name": "ipython",
    "version": 3
   },
   "file_extension": ".py",
   "mimetype": "text/x-python",
   "name": "python",
   "nbconvert_exporter": "python",
   "pygments_lexer": "ipython3",
   "version": "3.10.4"
  }
 },
 "nbformat": 4,
 "nbformat_minor": 5
}
